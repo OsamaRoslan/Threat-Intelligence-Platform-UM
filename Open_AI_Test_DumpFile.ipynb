{
  "nbformat": 4,
  "nbformat_minor": 0,
  "metadata": {
    "colab": {
      "provenance": [],
      "include_colab_link": true
    },
    "kernelspec": {
      "name": "python3",
      "display_name": "Python 3"
    },
    "language_info": {
      "name": "python"
    }
  },
  "cells": [
    {
      "cell_type": "markdown",
      "metadata": {
        "id": "view-in-github",
        "colab_type": "text"
      },
      "source": [
        "<a href=\"https://colab.research.google.com/github/OsamaRoslan/Threat-Intelligence-Platform-UM/blob/main/Open_AI_Test_DumpFile.ipynb\" target=\"_parent\"><img src=\"https://colab.research.google.com/assets/colab-badge.svg\" alt=\"Open In Colab\"/></a>"
      ]
    },
    {
      "cell_type": "code",
      "execution_count": 4,
      "metadata": {
        "colab": {
          "base_uri": "https://localhost:8080/"
        },
        "id": "QRRDY-BlFLHa",
        "outputId": "09e61707-e1be-47ae-aa01-bf0a115142b6"
      },
      "outputs": [
        {
          "output_type": "stream",
          "name": "stdout",
          "text": [
            "Looking in indexes: https://pypi.org/simple, https://us-python.pkg.dev/colab-wheels/public/simple/\n",
            "Collecting openai\n",
            "  Downloading openai-0.27.7-py3-none-any.whl (71 kB)\n",
            "\u001b[2K     \u001b[90m━━━━━━━━━━━━━━━━━━━━━━━━━━━━━━━━━━━━━━━━\u001b[0m \u001b[32m72.0/72.0 kB\u001b[0m \u001b[31m2.9 MB/s\u001b[0m eta \u001b[36m0:00:00\u001b[0m\n",
            "\u001b[?25hRequirement already satisfied: requests>=2.20 in /usr/local/lib/python3.10/dist-packages (from openai) (2.27.1)\n",
            "Requirement already satisfied: tqdm in /usr/local/lib/python3.10/dist-packages (from openai) (4.65.0)\n",
            "Collecting aiohttp (from openai)\n",
            "  Downloading aiohttp-3.8.4-cp310-cp310-manylinux_2_17_x86_64.manylinux2014_x86_64.whl (1.0 MB)\n",
            "\u001b[2K     \u001b[90m━━━━━━━━━━━━━━━━━━━━━━━━━━━━━━━━━━━━━━━━\u001b[0m \u001b[32m1.0/1.0 MB\u001b[0m \u001b[31m21.9 MB/s\u001b[0m eta \u001b[36m0:00:00\u001b[0m\n",
            "\u001b[?25hRequirement already satisfied: urllib3<1.27,>=1.21.1 in /usr/local/lib/python3.10/dist-packages (from requests>=2.20->openai) (1.26.15)\n",
            "Requirement already satisfied: certifi>=2017.4.17 in /usr/local/lib/python3.10/dist-packages (from requests>=2.20->openai) (2022.12.7)\n",
            "Requirement already satisfied: charset-normalizer~=2.0.0 in /usr/local/lib/python3.10/dist-packages (from requests>=2.20->openai) (2.0.12)\n",
            "Requirement already satisfied: idna<4,>=2.5 in /usr/local/lib/python3.10/dist-packages (from requests>=2.20->openai) (3.4)\n",
            "Requirement already satisfied: attrs>=17.3.0 in /usr/local/lib/python3.10/dist-packages (from aiohttp->openai) (23.1.0)\n",
            "Collecting multidict<7.0,>=4.5 (from aiohttp->openai)\n",
            "  Downloading multidict-6.0.4-cp310-cp310-manylinux_2_17_x86_64.manylinux2014_x86_64.whl (114 kB)\n",
            "\u001b[2K     \u001b[90m━━━━━━━━━━━━━━━━━━━━━━━━━━━━━━━━━━━━━━\u001b[0m \u001b[32m114.5/114.5 kB\u001b[0m \u001b[31m12.7 MB/s\u001b[0m eta \u001b[36m0:00:00\u001b[0m\n",
            "\u001b[?25hCollecting async-timeout<5.0,>=4.0.0a3 (from aiohttp->openai)\n",
            "  Downloading async_timeout-4.0.2-py3-none-any.whl (5.8 kB)\n",
            "Collecting yarl<2.0,>=1.0 (from aiohttp->openai)\n",
            "  Downloading yarl-1.9.2-cp310-cp310-manylinux_2_17_x86_64.manylinux2014_x86_64.whl (268 kB)\n",
            "\u001b[2K     \u001b[90m━━━━━━━━━━━━━━━━━━━━━━━━━━━━━━━━━━━━━━\u001b[0m \u001b[32m268.8/268.8 kB\u001b[0m \u001b[31m24.0 MB/s\u001b[0m eta \u001b[36m0:00:00\u001b[0m\n",
            "\u001b[?25hCollecting frozenlist>=1.1.1 (from aiohttp->openai)\n",
            "  Downloading frozenlist-1.3.3-cp310-cp310-manylinux_2_5_x86_64.manylinux1_x86_64.manylinux_2_17_x86_64.manylinux2014_x86_64.whl (149 kB)\n",
            "\u001b[2K     \u001b[90m━━━━━━━━━━━━━━━━━━━━━━━━━━━━━━━━━━━━━━\u001b[0m \u001b[32m149.6/149.6 kB\u001b[0m \u001b[31m13.9 MB/s\u001b[0m eta \u001b[36m0:00:00\u001b[0m\n",
            "\u001b[?25hCollecting aiosignal>=1.1.2 (from aiohttp->openai)\n",
            "  Downloading aiosignal-1.3.1-py3-none-any.whl (7.6 kB)\n",
            "Installing collected packages: multidict, frozenlist, async-timeout, yarl, aiosignal, aiohttp, openai\n",
            "Successfully installed aiohttp-3.8.4 aiosignal-1.3.1 async-timeout-4.0.2 frozenlist-1.3.3 multidict-6.0.4 openai-0.27.7 yarl-1.9.2\n"
          ]
        }
      ],
      "source": [
        "!pip install openai"
      ]
    },
    {
      "cell_type": "code",
      "source": [
        "import os"
      ],
      "metadata": {
        "id": "c6sxD6uyFsDx"
      },
      "execution_count": 1,
      "outputs": []
    },
    {
      "cell_type": "code",
      "source": [
        "os.environ['OPENAI_API_KEY'] = ''"
      ],
      "metadata": {
        "id": "ZOpMiNzQGkDA"
      },
      "execution_count": 2,
      "outputs": []
    },
    {
      "cell_type": "code",
      "source": [
        "import openai\n",
        "import numpy as np\n",
        "import os"
      ],
      "metadata": {
        "id": "GIPNQ53jGws6"
      },
      "execution_count": 5,
      "outputs": []
    },
    {
      "cell_type": "code",
      "source": [
        "!pip3 install PyPDF2\n",
        "import PyPDF2"
      ],
      "metadata": {
        "colab": {
          "base_uri": "https://localhost:8080/"
        },
        "id": "WpTgM57EGzwB",
        "outputId": "d2f7ba69-7060-449a-9dd6-6c2a25c101fd"
      },
      "execution_count": 6,
      "outputs": [
        {
          "output_type": "stream",
          "name": "stdout",
          "text": [
            "Looking in indexes: https://pypi.org/simple, https://us-python.pkg.dev/colab-wheels/public/simple/\n",
            "Collecting PyPDF2\n",
            "  Downloading pypdf2-3.0.1-py3-none-any.whl (232 kB)\n",
            "\u001b[2K     \u001b[90m━━━━━━━━━━━━━━━━━━━━━━━━━━━━━━━━━━━━━━━\u001b[0m \u001b[32m232.6/232.6 kB\u001b[0m \u001b[31m5.9 MB/s\u001b[0m eta \u001b[36m0:00:00\u001b[0m\n",
            "\u001b[?25hInstalling collected packages: PyPDF2\n",
            "Successfully installed PyPDF2-3.0.1\n"
          ]
        }
      ]
    },
    {
      "cell_type": "code",
      "source": [
        "!ls"
      ],
      "metadata": {
        "colab": {
          "base_uri": "https://localhost:8080/"
        },
        "id": "oBKkRgLJjmgK",
        "outputId": "20d97f1b-135e-48fa-c4c5-5f3aae4220b7"
      },
      "execution_count": 7,
      "outputs": [
        {
          "output_type": "stream",
          "name": "stdout",
          "text": [
            "sample_data\n"
          ]
        }
      ]
    },
    {
      "cell_type": "code",
      "source": [
        "pdf_reader = PyPDF2.PdfReader('malware.pdf')\n",
        "len(pdf_reader.pages)\n",
        "pdf_reader.pages[0].extract_text().strip()"
      ],
      "metadata": {
        "colab": {
          "base_uri": "https://localhost:8080/",
          "height": 145
        },
        "id": "11es4MCQHEtF",
        "outputId": "6c9977e5-984c-4b16-d87f-7d02143f0780"
      },
      "execution_count": 9,
      "outputs": [
        {
          "output_type": "execute_result",
          "data": {
            "text/plain": [
              "\"General rights  \\nCopyright and moral rights for the publications made accessible in the public portal are retained by the authors and/or other  copyright \\nowners and it is a condition of accessing publications that users recognise  and abide by the legal requirements associated with these rights.  \\n \\n\\uf0b7 Users may download and print one copy of any publication from the public portal for the purpose of private study or research.  \\n\\uf0b7 You may not further distribute the material or use it for any profit -making activity or commercial gain  \\n\\uf0b7 You may freely distribute the URL identifying the p ublication in the public portal  \\n \\nIf you believe that this document breaches copyright please contact us providing details, and we will remove access to the wo rk im mediately \\nand investigate your claim.  \\n  \\n \\n   \\n \\n \\nDownloaded from orbit.dtu.dk on: Apr 06, 2023\\nAn Introduction to Malware\\nSharp, Robin\\nPublication date:\\n2007\\nDocument Version\\nPublisher's PDF, also known as Version of record\\nLink back to DTU Orbit\\nCitation (APA):\\nSharp, R. (2007). An Introduction to Malware.\""
            ],
            "application/vnd.google.colaboratory.intrinsic+json": {
              "type": "string"
            }
          },
          "metadata": {},
          "execution_count": 9
        }
      ]
    },
    {
      "cell_type": "code",
      "source": [
        "!pip3 install unidecode\n",
        "import re\n",
        "from unidecode import unidecode"
      ],
      "metadata": {
        "colab": {
          "base_uri": "https://localhost:8080/"
        },
        "id": "mMegBFROMr9v",
        "outputId": "5c09128c-4c8b-426f-a36d-cb44f0902fec"
      },
      "execution_count": 10,
      "outputs": [
        {
          "output_type": "stream",
          "name": "stdout",
          "text": [
            "Looking in indexes: https://pypi.org/simple, https://us-python.pkg.dev/colab-wheels/public/simple/\n",
            "Collecting unidecode\n",
            "  Downloading Unidecode-1.3.6-py3-none-any.whl (235 kB)\n",
            "\u001b[2K     \u001b[90m━━━━━━━━━━━━━━━━━━━━━━━━━━━━━━━━━━━━━━━\u001b[0m \u001b[32m235.9/235.9 kB\u001b[0m \u001b[31m6.1 MB/s\u001b[0m eta \u001b[36m0:00:00\u001b[0m\n",
            "\u001b[?25hInstalling collected packages: unidecode\n",
            "Successfully installed unidecode-1.3.6\n"
          ]
        }
      ]
    },
    {
      "cell_type": "code",
      "source": [
        "def cleaning(string):\n",
        "  return re.sub(r'[ ]+', ' ', unidecode(string).replace('\\n', ' ')).strip()"
      ],
      "metadata": {
        "id": "XB_O2OpiMz1w"
      },
      "execution_count": 11,
      "outputs": []
    },
    {
      "cell_type": "code",
      "source": [
        "cleaning(pdf_reader.pages[0].extract_text())"
      ],
      "metadata": {
        "colab": {
          "base_uri": "https://localhost:8080/",
          "height": 145
        },
        "id": "y382Pumsk8TB",
        "outputId": "8f369592-1cc3-4c6a-ef67-90e6ede0d8a9"
      },
      "execution_count": 12,
      "outputs": [
        {
          "output_type": "execute_result",
          "data": {
            "text/plain": [
              "\"General rights Copyright and moral rights for the publications made accessible in the public portal are retained by the authors and/or other copyright owners and it is a condition of accessing publications that users recognise and abide by the legal requirements associated with these rights. Users may download and print one copy of any publication from the public portal for the purpose of private study or research. You may not further distribute the material or use it for any profit -making activity or commercial gain You may freely distribute the URL identifying the p ublication in the public portal If you believe that this document breaches copyright please contact us providing details, and we will remove access to the wo rk im mediately and investigate your claim. Downloaded from orbit.dtu.dk on: Apr 06, 2023 An Introduction to Malware Sharp, Robin Publication date: 2007 Document Version Publisher's PDF, also known as Version of record Link back to DTU Orbit Citation (APA): Sharp, R. (2007). An Introduction to Malware.\""
            ],
            "application/vnd.google.colaboratory.intrinsic+json": {
              "type": "string"
            }
          },
          "metadata": {},
          "execution_count": 12
        }
      ]
    },
    {
      "cell_type": "code",
      "source": [
        "def get_embedding(text, model=\"text-embedding-ada-002\"):\n",
        "   text = text.replace(\"\\n\", \" \")\n",
        "   return openai.Embedding.create(input = [text], model=model)['data'][0]['embedding']"
      ],
      "metadata": {
        "id": "Zdpt3hGDbmvW"
      },
      "execution_count": 13,
      "outputs": []
    },
    {
      "cell_type": "code",
      "source": [
        "v = get_embedding(cleaning(pdf_reader.pages[0].extract_text()))\n",
        "len(v)"
      ],
      "metadata": {
        "colab": {
          "base_uri": "https://localhost:8080/"
        },
        "id": "MC_BudeUbo2p",
        "outputId": "2e74044d-9786-4e3b-ceee-dca9a3f6d5b3"
      },
      "execution_count": 35,
      "outputs": [
        {
          "output_type": "execute_result",
          "data": {
            "text/plain": [
              "1536"
            ]
          },
          "metadata": {},
          "execution_count": 35
        }
      ]
    },
    {
      "cell_type": "code",
      "source": [
        "from tqdm import tqdm"
      ],
      "metadata": {
        "id": "RhD1uvsIbqzo"
      },
      "execution_count": 15,
      "outputs": []
    },
    {
      "cell_type": "code",
      "source": [
        "vs = []\n",
        "for i in tqdm(range(len(pdf_reader.pages))):\n",
        "  c = cleaning(pdf_reader.pages[i].extract_text())\n",
        "  v = get_embedding(c)\n",
        "  vs.append(v)"
      ],
      "metadata": {
        "id": "c3YIq_gjbueh",
        "colab": {
          "base_uri": "https://localhost:8080/"
        },
        "outputId": "451b6bf8-93ea-41a0-9519-27b46df87322"
      },
      "execution_count": 16,
      "outputs": [
        {
          "output_type": "stream",
          "name": "stderr",
          "text": [
            "100%|██████████| 22/22 [00:07<00:00,  3.01it/s]\n"
          ]
        }
      ]
    },
    {
      "cell_type": "code",
      "source": [
        "pdf_reader.pages[20].extract_text()"
      ],
      "metadata": {
        "id": "ipEdSK-Vdt5W",
        "colab": {
          "base_uri": "https://localhost:8080/",
          "height": 344
        },
        "outputId": "9aacad9e-4980-46ea-9358-1279126cfb3d"
      },
      "execution_count": 20,
      "outputs": [
        {
          "output_type": "execute_result",
          "data": {
            "text/plain": [
              "'to neutralise it. This distribution of information is analogous to the inter-immune-cell\\ncommunication which builds up the collective m emory of the foreign agent in the biological\\nsystem.\\n7 Further Information about Malware\\nThese notes are not a catalogue of malware. To ﬁnd out about individual items of mal-\\nware, you should consult the Web sites operated by major anti-malware suppliers. The\\norganisation CERT ( http://www.cert.org ) collects and disseminates information about\\nnew attacks, and maintains a large archive describing historical ones.\\nReferences\\n[1] A. V. Aho and M. J. Corasick. Eﬃcient string matching: An aid to bibliographic\\nsearch. Communications of the ACM , 18(6):333–340, June 1975.\\n[2] Paul Barford and Vinod Yegneswaran. An inside look at botnets. In Mihai Christodor-\\nescu, Somesh Jha, Douglas Maughan, Dawn Song, and Cliﬀ Wang, editors, Malware\\nDetection ,v o l u m e2 7o f Advances in Information Security , chapter 8. Springer, 2007.\\n[3] Mihai Christodorescu and Somesh Jha. Static analysis of executables to detect mali-\\ncious patterns. In Proceedings of the 12th USENIX Security Symposium, Washington,\\nD.C., pages 169–186. USENIX Association, August 2003.\\n[4] Peter Denning. The science o f computing: Computer viruses. American Scientist ,\\n76(3):236–238, May 1988.\\n[5] Peter Denning. Computers under Attack: Intruders, Worms and Viruses . Addison-\\nWesley, Reading, Mass., 1990.\\n[6] R. N. Horspool. Practical fast searching in strings. Software – Practice and Experience ,\\n10(6):501–506, 1980.\\n[7] Jeﬀrey O. Kephart. A biologically insp ired immune system for computers. In R. A.\\nBrooks and P. Maes, editors, Artiﬁcial Life IV: Proceedings of the 4th International\\nWorkshop on the Synthesis and Simulation of Living Systems , pages 130–139. MIT\\nPress, 1994.\\n[8] Calvin Ko, George Fink, and Karl Levitt. Automated detection of vulnerabilities\\nin privileged programs by execution monitoring. In Proceedings of the 10th Annual\\nComputer Security Applications Conference, Orlando, Florida , pages 134–144. IEEE\\nComputer Society P ress, December 1994.\\n[9] John Kristoﬀ. Botnets. In Proceedings of NANOG32, Reston, Virginia , October 2004.\\n32 pages. Available via URL: http://www.nanog.org/mtg-0410/ .\\n[10] Microsoft Corporation. Visual Studio, Microsoft Portable Executable and Common\\nObject File Format Speciﬁcation, Revision 8.0 , May 2006.\\n[11] Carey Nachenberg. Computer virus-antivirus coevolution. Communications of the\\nACM, 40(1):46–51, January 1997.\\n20'"
            ],
            "application/vnd.google.colaboratory.intrinsic+json": {
              "type": "string"
            }
          },
          "metadata": {},
          "execution_count": 20
        }
      ]
    },
    {
      "cell_type": "code",
      "source": [
        "vs_np = np.array(vs)"
      ],
      "metadata": {
        "id": "a-8QB1P3dMA_"
      },
      "execution_count": 21,
      "outputs": []
    },
    {
      "cell_type": "code",
      "source": [
        "vs_np.shape"
      ],
      "metadata": {
        "id": "-Vyds9MPdRZe",
        "colab": {
          "base_uri": "https://localhost:8080/"
        },
        "outputId": "375e0f56-3027-4e49-c4d5-dc5ecaf792e6"
      },
      "execution_count": 22,
      "outputs": [
        {
          "output_type": "execute_result",
          "data": {
            "text/plain": [
              "(22, 1536)"
            ]
          },
          "metadata": {},
          "execution_count": 22
        }
      ]
    },
    {
      "cell_type": "code",
      "source": [
        "#represents vector\n",
        "vs_np[21]"
      ],
      "metadata": {
        "id": "2q0u11pfdV_n",
        "colab": {
          "base_uri": "https://localhost:8080/"
        },
        "outputId": "37e064f7-8ccf-4198-f385-206ceeb2a4dd"
      },
      "execution_count": 23,
      "outputs": [
        {
          "output_type": "execute_result",
          "data": {
            "text/plain": [
              "array([-0.04238733,  0.00856595,  0.0047907 , ..., -0.0261403 ,\n",
              "        0.02357269, -0.00272899])"
            ]
          },
          "metadata": {},
          "execution_count": 23
        }
      ]
    },
    {
      "cell_type": "code",
      "source": [
        "from sklearn.metrics.pairwise import cosine_similarity"
      ],
      "metadata": {
        "id": "ROqC_40CbwLo"
      },
      "execution_count": 24,
      "outputs": []
    },
    {
      "cell_type": "code",
      "source": [
        "q = 'How to execute the virus code?'\n",
        "q_v = get_embedding(q)"
      ],
      "metadata": {
        "id": "-Oq91DfDbzl_"
      },
      "execution_count": 25,
      "outputs": []
    },
    {
      "cell_type": "code",
      "source": [
        "np.array([q_v])"
      ],
      "metadata": {
        "id": "qbqvvX4Oe26y",
        "colab": {
          "base_uri": "https://localhost:8080/"
        },
        "outputId": "5e86625e-c00a-416e-981f-4531a638ddef"
      },
      "execution_count": 26,
      "outputs": [
        {
          "output_type": "execute_result",
          "data": {
            "text/plain": [
              "array([[-0.01914503, -0.00320282, -0.03220967, ..., -0.02133617,\n",
              "         0.00190868,  0.01318789]])"
            ]
          },
          "metadata": {},
          "execution_count": 26
        }
      ]
    },
    {
      "cell_type": "code",
      "source": [
        "score = cosine_similarity(vs_np, np.array([q_v]))[:,0]\n",
        "c_best_doc = cleaning(pdf_reader.pages[int(np.argmax(score))].extract_text())"
      ],
      "metadata": {
        "id": "qSEug81ub1jS"
      },
      "execution_count": 27,
      "outputs": []
    },
    {
      "cell_type": "code",
      "source": [
        "#Indicate what pages are the info located\n",
        "np.argmax(score)"
      ],
      "metadata": {
        "id": "twvhJ3OSb3lS",
        "colab": {
          "base_uri": "https://localhost:8080/"
        },
        "outputId": "642d0fd8-c909-4d22-fa92-adb4c638b2ce"
      },
      "execution_count": 28,
      "outputs": [
        {
          "output_type": "execute_result",
          "data": {
            "text/plain": [
              "7"
            ]
          },
          "metadata": {},
          "execution_count": 28
        }
      ]
    },
    {
      "cell_type": "code",
      "source": [
        "prompting = f'teks `{c_best_doc}`, according to the text, `{q}`, answer the question'\n",
        "prompting"
      ],
      "metadata": {
        "id": "azBsjmdnfRxp",
        "colab": {
          "base_uri": "https://localhost:8080/",
          "height": 145
        },
        "outputId": "31605718-e146-4209-f2b0-62a3ff8d77e3"
      },
      "execution_count": 29,
      "outputs": [
        {
          "output_type": "execute_result",
          "data": {
            "text/plain": [
              "'teks `*Change an existing CALL instruction to call the virus code. With many machine architectures (including the ubiquitous Intel x86 family), this is not as easy as it sounds, since the CALL instruction uses a one-byte opcode (Intel: 0xe8), which could just as easily be an item of data or part of an address. The viral code forinserting the virus in the victim file therefore checks whether the address after the 0xe8 \"opcode\" points into the import section , in which case it really is a CALL instruction. Note that this technique is not entirely foolproof seen from the virusdesigner\\'s point of view, since there is no guarantee that the executable will in fact execute the CALL instruction during execution of the program. *Change the content of the import table , which contains addresses of all imported functions, so that one of the entries in the table is replaced by the address of the startof the virus code. When the infected executable calls the relevant function, it starts the virus code instead. Once again, in order to prevent users becoming suspicious, the virus must call the original function once its own execution is completed. Detection of EPO vira is a challenge, as the inserted or modified JUMP or CALL instruc- tions can in principle be placed anywhere within the code. Searching through the file and checking all the JUMP and CALL instructions to see whether they activate viral code can be a slow process. The other effective way to detect the presence of the virus is to emulatethe execution of the program and see whether it would actually cause any damaging effects. This is also slow, and can be fooled by a clever virus designer who includes random choices in the virus, so that it does not have a malicious effect every time it is activated. It is exactly this problem with EPO vira which has led to the development of antivirus systems which rely on detection of malicious behaviour rather than recognition of signatures. This approach will be dealt with in more detail in Section 6.3 below. A variant of the EPO approach is for the actual viral code to be kept in a library file (a shared library or a DLL) which the infected executable will call. The changes to the infected file can in this way be kept to a minimum: a pointer to the malicious library needs to be inserted in the import tables, and a CALL instruction must be inserted somewherein the executable. This technique is used, for example, by the COK variant (2005) of the BackDoor virus (actually a Trojan horse) whi ch deposits a DLL called spool.dll and then injects code into all processes running on the computer, so that they link to it. 3.3 Disguising the Virus Since signature-based antivirus systems a ttempt to find viral code by looking for charac- teristic byte sequences in the executable, virus designers have adopted various techniques for disguising such sequences. The two dominant techniques are encryption of the viral code and polymorphism . 3.3.1 Encryption Encryption of the viral code with different encryption keys will produce different cipher- texts, thus ensuring that a signature scanner cannot recognise the virus. However, the 7`, according to the text, `How to execute the virus code?`, answer the question'"
            ],
            "application/vnd.google.colaboratory.intrinsic+json": {
              "type": "string"
            }
          },
          "metadata": {},
          "execution_count": 29
        }
      ]
    },
    {
      "cell_type": "code",
      "source": [
        "response = openai.Completion.create(\n",
        "  model=\"text-davinci-003\",\n",
        "  prompt=prompting,\n",
        "  temperature=0.7,\n",
        "  max_tokens=384,\n",
        "  top_p=1,\n",
        "  frequency_penalty=0,\n",
        "  presence_penalty=0,\n",
        ")"
      ],
      "metadata": {
        "id": "mdPRGHxMf4WH"
      },
      "execution_count": 30,
      "outputs": []
    },
    {
      "cell_type": "code",
      "source": [
        "response"
      ],
      "metadata": {
        "id": "OzCQWKhWjQNe",
        "colab": {
          "base_uri": "https://localhost:8080/"
        },
        "outputId": "7ba6534c-6519-420e-ccde-2ef86ebc0e88"
      },
      "execution_count": 31,
      "outputs": [
        {
          "output_type": "execute_result",
          "data": {
            "text/plain": [
              "<OpenAIObject text_completion id=cmpl-7JnRa4CwbTA6RDScuK1XeDaaY3ph0 at 0x7f6bf21067f0> JSON: {\n",
              "  \"choices\": [\n",
              "    {\n",
              "      \"finish_reason\": \"stop\",\n",
              "      \"index\": 0,\n",
              "      \"logprobs\": null,\n",
              "      \"text\": \"\\n\\nThe virus code can be executed by changing an existing CALL instruction to call the virus code, or by changing the content of the import table so that one of the entries is replaced by the address of the start of the virus code.\"\n",
              "    }\n",
              "  ],\n",
              "  \"created\": 1684952650,\n",
              "  \"id\": \"cmpl-7JnRa4CwbTA6RDScuK1XeDaaY3ph0\",\n",
              "  \"model\": \"text-davinci-003\",\n",
              "  \"object\": \"text_completion\",\n",
              "  \"usage\": {\n",
              "    \"completion_tokens\": 48,\n",
              "    \"prompt_tokens\": 673,\n",
              "    \"total_tokens\": 721\n",
              "  }\n",
              "}"
            ]
          },
          "metadata": {},
          "execution_count": 31
        }
      ]
    },
    {
      "cell_type": "code",
      "source": [
        "response.choices[0].text"
      ],
      "metadata": {
        "id": "_Jt1gHqbh1n-",
        "colab": {
          "base_uri": "https://localhost:8080/",
          "height": 54
        },
        "outputId": "93554e06-6516-4276-e18a-46ee59e98afa"
      },
      "execution_count": 32,
      "outputs": [
        {
          "output_type": "execute_result",
          "data": {
            "text/plain": [
              "'\\n\\nThe virus code can be executed by changing an existing CALL instruction to call the virus code, or by changing the content of the import table so that one of the entries is replaced by the address of the start of the virus code.'"
            ],
            "application/vnd.google.colaboratory.intrinsic+json": {
              "type": "string"
            }
          },
          "metadata": {},
          "execution_count": 32
        }
      ]
    }
  ]
}
